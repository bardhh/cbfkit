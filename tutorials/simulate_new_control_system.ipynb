{
 "cells": [
  {
   "cell_type": "markdown",
   "metadata": {},
   "source": [
    "## Simulate New Control System\n",
    "This notebook serves as a tutorial for building a simulation for an arbitrary system whose model is defined by a stochastic differential equation (SDE). \n",
    "\n",
    "```CBFkit``` provides functionality for simulating arbitrary controlled dynamical systems given that they may be modelled by SDEs or ordinary differential equations (ODEs). As such, this tutorial will walk the user through the process of generating code for simulating new models. It will then instruct the user on how to set up the remaining items required for simulating the controlled dynamical system, and conclude by executing the simulation and logging the results for analysis.\n",
    "\n",
    "Accordingly, this notebook is organized into 3 sections:\n",
    "1. Model Generation: generate the code required to model and control the system dynamics for simulation\n",
    "2. Simulation Setup: configure the dynamics, controller, state estimator, etc. for simulation\n",
    "3. Execution and Data Logging: execute the simulation and save the data for analysis\n",
    "\n",
    "Before proceeding, we need some generic ```jax``` imports."
   ]
  },
  {
   "cell_type": "code",
   "execution_count": 5,
   "metadata": {},
   "outputs": [],
   "source": [
    "import os\n",
    "from jax import Array, jit\n",
    "import jax.numpy as jnp"
   ]
  },
  {
   "cell_type": "markdown",
   "metadata": {},
   "source": [
    "### 1. Model Generation\n",
    "\n",
    "This section provides instruction on how to generate new code for simulating the controlled (or uncontrolled) dynamical system of the user's choice. \n",
    "\n",
    "The main heavy lifting will be done by the ```generate_model``` function found in the ```systems.create_new_system``` module."
   ]
  },
  {
   "cell_type": "code",
   "execution_count": 6,
   "metadata": {},
   "outputs": [],
   "source": [
    "from cbfkit.codegen.create_new_system import generate_model"
   ]
  },
  {
   "cell_type": "markdown",
   "metadata": {},
   "source": [
    "Next, the system model must be specified. Importantly, we currently support systems of the form $\\dot x = f(x) + g(x)u + d(x)$, where $x \\in \\mathbb R^n$ is the state, $u \\in \\mathbb R^m$ the control, and where $f: \\mathbb R^n \\mapsto \\mathbb R^n$ represents the drift dynamics, $g: \\mathbb R^n \\mapsto \\mathbb R^{n \\times m}$ the control matrix, and $d: \\mathbb R^n \\mapsto \\mathcal D \\subseteq \\mathbb R^n$ represents some disturbance (or term representing the diffusion term in a SDE).\n",
    "\n",
    "In addition, we support parametric definitions of these functions in the sense that they may be defined with respect to a set of static parameters $\\theta \\in \\Theta \\subseteq \\mathbb R^p$, which are specified a priori, i.e., for $\\dot x = f(x, \\theta) + g(x, \\theta)u + d(x).$\n",
    "\n",
    "In this tutorial, we will be working with the controlled Van der Pol oscillator, modeled as follows: $\\begin{align}\\dot x_1 &= x_2 \\nonumber \\\\ \\dot x_2 &=  \\epsilon (1 - x_1^2)x_2 - x_1 + u \\nonumber\\end{align}$\n",
    "\n",
    "As such, we define these relevant terms symbolically with strings as follows (omitting $d(x)$, which does not go in the code-gen):"
   ]
  },
  {
   "cell_type": "code",
   "execution_count": 7,
   "metadata": {},
   "outputs": [],
   "source": [
    "drift_dynamics = \"[x[1], -x[0] + epsilon * (1 - x[0]**2) * x[1]]\"\n",
    "control_matrix = \"[[0], [1]]\""
   ]
  },
  {
   "cell_type": "markdown",
   "metadata": {},
   "source": [
    "Because we are generating code, we must specify a location for this code to be saved."
   ]
  },
  {
   "cell_type": "code",
   "execution_count": 9,
   "metadata": {},
   "outputs": [],
   "source": [
    "target_directory = \"/tutorials\"\n",
    "model_name = \"van_der_pol_oscillator\""
   ]
  },
  {
   "cell_type": "markdown",
   "metadata": {},
   "source": [
    "We must also specify that the variable ```epsilon``` is not a state, but a parameter of the dynamics. The way this is done is by defining a ```Dict``` object with a ```dynamics``` entry consisting of another ```Dict``` containing the variable names of the parameters (e.g., ```epsilon```), their data types (e.g., ```float```), and their values (e.g., ```0.5```). Generically, this is done in the following way:\n",
    "\n",
    "```params = {\"dynamics\": {\"variable_name: data_type\": value}}```\n",
    "\n",
    "For this example, we use an ```epsilon``` value of ```0.5```, as shown below."
   ]
  },
  {
   "cell_type": "code",
   "execution_count": 10,
   "metadata": {},
   "outputs": [],
   "source": [
    "params = {\"dynamics\": {\"epsilon: float\": 0.5}}"
   ]
  },
  {
   "cell_type": "markdown",
   "metadata": {},
   "source": [
    "We are now able to call ```generate_model``` to generate the dynamics code."
   ]
  },
  {
   "cell_type": "code",
   "execution_count": 11,
   "metadata": {},
   "outputs": [
    {
     "name": "stdout",
     "output_type": "stream",
     "text": [
      "Generated ROS2 controller node script at /tutorials/van_der_pol_oscillator/ros2/controller.py\n",
      "Generated ROS2 sensor node script at /tutorials/van_der_pol_oscillator/ros2/sensor.py\n",
      "Generated ROS2 estimator node script at /tutorials/van_der_pol_oscillator/ros2/estimator.py\n",
      "Generated ROS2 plant node script at /tutorials/van_der_pol_oscillator/ros2/plant_model.py\n",
      "Generated configuration script at /tutorials/van_der_pol_oscillator/ros2/config.py\n",
      "Generated bash script to run ROS2 nodes at: /tutorials/van_der_pol_oscillator/run_ros2_nodes.sh\n"
     ]
    },
    {
     "data": {
      "text/plain": [
       "(2, 1)"
      ]
     },
     "execution_count": 11,
     "metadata": {},
     "output_type": "execute_result"
    }
   ],
   "source": [
    "generate_model.generate_model(\n",
    "    directory=target_directory,\n",
    "    model_name=model_name,\n",
    "    drift_dynamics=drift_dynamics,\n",
    "    control_matrix=control_matrix,\n",
    "    params=params,\n",
    ")"
   ]
  },
  {
   "cell_type": "markdown",
   "metadata": {},
   "source": [
    "As you can see, a directory called ```tutorials``` has been created in the current working directory. It contains a multitude of new files, a breakdown of which may be seen below:"
   ]
  },
  {
   "cell_type": "markdown",
   "metadata": {},
   "source": []
  },
  {
   "cell_type": "raw",
   "metadata": {},
   "source": [
    ".\n",
    "    tutorials\n",
    "  |    van_der_pol_oscillator\n",
    "  |  |    plant.py\n",
    "  |  |    __init__.py"
   ]
  },
  {
   "cell_type": "markdown",
   "metadata": {},
   "source": [
    "#### Adding a Control Law\n",
    "Having defined our control-affine dynamics model, it is now time to define an arbitrary (nominal) controller. The ```CBFkit``` supports defining control laws that are a function of the state, time, and static parameters. For example, if we wanted to implement the feedback linearizing control law $u(x) = x_1(1 - k_p) - \\epsilon * (1 - x_1**2) * x_2$, then we would define the ```nominal_control_law``` variable as follows."
   ]
  },
  {
   "cell_type": "code",
   "execution_count": 12,
   "metadata": {},
   "outputs": [],
   "source": [
    "nominal_control_law = \"x[0] * (1 - k_p) - epsilon * (1 - x[0]**2) * x[1]\"\n",
    "params[\"controller\"] = {\"k_p: float\": 1.0, \"epsilon: float\": 0.5}"
   ]
  },
  {
   "cell_type": "markdown",
   "metadata": {},
   "source": [
    "We may then generate the model and controller code using ```generate_model``` as follows."
   ]
  },
  {
   "cell_type": "code",
   "execution_count": 13,
   "metadata": {},
   "outputs": [
    {
     "name": "stdout",
     "output_type": "stream",
     "text": [
      "Generated ROS2 controller node script at /tutorials/van_der_pol_oscillator/ros2/controller.py\n",
      "Generated ROS2 sensor node script at /tutorials/van_der_pol_oscillator/ros2/sensor.py\n",
      "Generated ROS2 estimator node script at /tutorials/van_der_pol_oscillator/ros2/estimator.py\n",
      "Generated ROS2 plant node script at /tutorials/van_der_pol_oscillator/ros2/plant_model.py\n",
      "Generated configuration script at /tutorials/van_der_pol_oscillator/ros2/config.py\n",
      "Generated bash script to run ROS2 nodes at: /tutorials/van_der_pol_oscillator/run_ros2_nodes.sh\n"
     ]
    },
    {
     "data": {
      "text/plain": [
       "(2, 1)"
      ]
     },
     "execution_count": 13,
     "metadata": {},
     "output_type": "execute_result"
    }
   ],
   "source": [
    "generate_model.generate_model(\n",
    "    directory=target_directory,\n",
    "    model_name=model_name,\n",
    "    drift_dynamics=drift_dynamics,\n",
    "    control_matrix=control_matrix,\n",
    "    nominal_controller=nominal_control_law,\n",
    "    params=params,\n",
    ")"
   ]
  },
  {
   "cell_type": "markdown",
   "metadata": {},
   "source": [
    "The file hierarchy now looks like the following, with a new ```controllers``` folder containing ```___init___.py```, ```controller_1.py``` (the specified nominal controller), and ```zero_controller.py``` (applying zero control inputs) files."
   ]
  },
  {
   "cell_type": "raw",
   "metadata": {},
   "source": [
    ".\n",
    "    tutorials\n",
    "  |    van_der_pol_oscillator\n",
    "  |  |    plant.py\n",
    "  |  |    __init__.py\n",
    "  |  |    controllers\n",
    "  |  |  |    controller_1.py\n",
    "  |  |  |    __init__.py\n",
    "  |  |  |    zero_controller.py"
   ]
  },
  {
   "cell_type": "markdown",
   "metadata": {},
   "source": [
    "#### Adding Certificate Functions"
   ]
  },
  {
   "cell_type": "markdown",
   "metadata": {},
   "source": [
    "Now, we have our dynamics model and we have our nominal control law. But what if we want our controller to obey some state and/or input constraints? \n",
    "\n",
    "We can specify constraint functions symbolically in a similar fashion to the dynamics. For example, if we want to ensure that $x_1 \\leq 5$ and $x_1 \\geq -7$, we can use the constraint functions $h_1(x) = 5 - x_1$ and $h_2(x) = x_1 + 7$ and encode them in a CBF-QP controller. As such, we can define a variable ```state_constraint_funcs``` in the following way."
   ]
  },
  {
   "cell_type": "markdown",
   "metadata": {},
   "source": []
  },
  {
   "cell_type": "code",
   "execution_count": 14,
   "metadata": {},
   "outputs": [],
   "source": [
    "state_constraint_funcs = [\"5 - x[0]\", \"x[0] + 7\"]"
   ]
  },
  {
   "cell_type": "markdown",
   "metadata": {},
   "source": [
    "We can encode control Lyapunov functions in a similar way. For example, if our candidate CLF is $V(x) = x_1^2 + x_2^2 -1$, then we can define the variable ```lyapunov_functions``` as follows."
   ]
  },
  {
   "cell_type": "code",
   "execution_count": 15,
   "metadata": {},
   "outputs": [],
   "source": [
    "lyapunov_functions = \"x[0]**2 + x[1]**2 - radius\"\n",
    "params[\"clf\"] = [{\"radius: float\": 1.0}]"
   ]
  },
  {
   "cell_type": "markdown",
   "metadata": {},
   "source": [
    "We can now generate our full model code with the ```generate_model``` module as follows."
   ]
  },
  {
   "cell_type": "code",
   "execution_count": 16,
   "metadata": {},
   "outputs": [
    {
     "name": "stdout",
     "output_type": "stream",
     "text": [
      "Generated ROS2 controller node script at /tutorials/van_der_pol_oscillator/ros2/controller.py\n",
      "Generated ROS2 sensor node script at /tutorials/van_der_pol_oscillator/ros2/sensor.py\n",
      "Generated ROS2 estimator node script at /tutorials/van_der_pol_oscillator/ros2/estimator.py\n",
      "Generated ROS2 plant node script at /tutorials/van_der_pol_oscillator/ros2/plant_model.py\n",
      "Generated configuration script at /tutorials/van_der_pol_oscillator/ros2/config.py\n",
      "Generated bash script to run ROS2 nodes at: /tutorials/van_der_pol_oscillator/run_ros2_nodes.sh\n"
     ]
    },
    {
     "data": {
      "text/plain": [
       "(2, 1)"
      ]
     },
     "execution_count": 16,
     "metadata": {},
     "output_type": "execute_result"
    }
   ],
   "source": [
    "generate_model.generate_model(\n",
    "    directory=target_directory,\n",
    "    model_name=model_name,\n",
    "    drift_dynamics=drift_dynamics,\n",
    "    control_matrix=control_matrix,\n",
    "    barrier_funcs=state_constraint_funcs,\n",
    "    lyapunov_funcs=lyapunov_functions,\n",
    "    nominal_controller=nominal_control_law,\n",
    "    params=params,\n",
    ")"
   ]
  },
  {
   "cell_type": "markdown",
   "metadata": {},
   "source": [
    "This generates the following file hierarchy, which in addition now possesses the folder ```certificate_functions``` containing subfolders ```barrier_functions``` and ```lyapunov_functions``` with the specified barrier and lyapunov candidate functions."
   ]
  },
  {
   "cell_type": "raw",
   "metadata": {},
   "source": [
    ".\n",
    "    tutorials\n",
    "  |    van_der_pol_oscillator\n",
    "  |  |    plant.py\n",
    "  |  |    __init__.py\n",
    "  |  |    certificate_functions\n",
    "  |  |  |    barrier_functions\n",
    "  |  |  |  |    barrier_2.py\n",
    "  |  |  |  |    barrier_1.py\n",
    "  |  |  |    __init__.py\n",
    "  |  |  |    lyapunov_functions\n",
    "  |  |  |  |    lyapunov_1.py\n",
    "  |  |    controllers\n",
    "  |  |  |    controller_1.py\n",
    "  |  |  |    __init__.py\n",
    "  |  |  |    zero_controller.py"
   ]
  },
  {
   "cell_type": "markdown",
   "metadata": {},
   "source": [
    "In the ensuing section, it will be shown how these newly generated files may be used for simulating the controlled Van der Pol system."
   ]
  },
  {
   "cell_type": "markdown",
   "metadata": {},
   "source": [
    "### 2. Simulation Setup"
   ]
  },
  {
   "cell_type": "markdown",
   "metadata": {},
   "source": [
    "The simulation will be executed by the ```execute``` function from the ```simulation.simulator``` module. In viewing the ```execute``` docs, we see that it expects the following arguments:\n",
    "\n",
    "```\n",
    "Args:\n",
    "    x0 (State): initial (ground truth) state of the system\n",
    "    dynamics (DynamicsCallable): specifies system dynamics\n",
    "    sensor (SensorCallable): function for sensing the (complete or partial) state\n",
    "    controller (ControllerCallable): function for computing the control input u\n",
    "    estimator (EstimatorCallable): function for estimating the state x\n",
    "    integrator (IntegratorCallable): function for numerically integrating the state forward in time\n",
    "    dt (Time): length of simulation timestep (sec)\n",
    "    num_steps (int): total number of timesteps in simulation. final time = num_steps * dt\n",
    "    filepath (Optional[str], optional): location to save file. Defaults to None (no save).\n",
    "```\n",
    "\n",
    "Therefore, we need to define the correct objects for ```dynamics```, ```sensor```, ```controller```, ```estimator```, ```integrator```, ```dt```, and ```num_steps```, which may be done using the code we just generated. But first, we need some import statements."
   ]
  },
  {
   "cell_type": "markdown",
   "metadata": {},
   "source": []
  },
  {
   "cell_type": "code",
   "execution_count": 17,
   "metadata": {},
   "outputs": [],
   "source": [
    "# Provides access to execute (sim.execute)\n",
    "import cbfkit.simulation.simulator as sim \n",
    "\n",
    "# Access to CBF-CLF-QP control law\n",
    "import cbfkit.controllers_and_planners.model_based.cbf_clf_controllers as cbf_clf_controllers\n",
    "\n",
    "# Necessary housekeeping for using multiple CBFs/CLFs\n",
    "from cbfkit.controllers_and_planners.model_based.cbf_clf_controllers.utils.certificate_packager import concatenate_certificates\n",
    "\n",
    "# Suite of zeroing barrier function derivative conditions (forms of Class K functions)\n",
    "from cbfkit.controllers_and_planners.model_based.cbf_clf_controllers.utils.barrier_conditions import zeroing_barriers\n",
    "\n",
    "# Exponentially stable derivative condition for CLF\n",
    "from cbfkit.controllers_and_planners.model_based.cbf_clf_controllers.utils.lyapunov_conditions.exponential_stability import e_s\n",
    "\n",
    "# Assuming perfect, complete state information\n",
    "from cbfkit.sensors import perfect as sensor\n",
    "\n",
    "# With perfect sensing, we can use a naive estimate of the state\n",
    "from cbfkit.estimators import naive as estimator\n",
    "\n",
    "# Use forward-Euler numerical integration scheme\n",
    "from cbfkit.utils.numerical_integration import forward_euler as integrator\n",
    "\n",
    "# To add stochastic perturbation to system dynamics\n",
    "from cbfkit.modeling.additive_disturbances import generate_stochastic_perturbation\n",
    "sigma = lambda x: jnp.array([[0, 0], [0, 0.05 * x[0]]])  # State-dependent diffusion term in SDE"
   ]
  },
  {
   "cell_type": "markdown",
   "metadata": {},
   "source": [
    "Now, import the newly generated dynamics module."
   ]
  },
  {
   "cell_type": "code",
   "execution_count": 19,
   "metadata": {},
   "outputs": [
    {
     "ename": "ImportError",
     "evalue": "cannot import name 'van_der_pol_oscillator' from 'tutorials.tutorials' (unknown location)",
     "output_type": "error",
     "traceback": [
      "\u001b[0;31m---------------------------------------------------------------------------\u001b[0m",
      "\u001b[0;31mImportError\u001b[0m                               Traceback (most recent call last)",
      "Cell \u001b[0;32mIn[19], line 1\u001b[0m\n\u001b[0;32m----> 1\u001b[0m \u001b[38;5;28;01mfrom\u001b[39;00m \u001b[38;5;21;01mtutorials\u001b[39;00m\u001b[38;5;21;01m.\u001b[39;00m\u001b[38;5;21;01mtutorials\u001b[39;00m \u001b[38;5;28;01mimport\u001b[39;00m van_der_pol_oscillator\n",
      "\u001b[0;31mImportError\u001b[0m: cannot import name 'van_der_pol_oscillator' from 'tutorials.tutorials' (unknown location)"
     ]
    }
   ],
   "source": [
    "from tutorials import van_der_pol_oscillator"
   ]
  },
  {
   "cell_type": "markdown",
   "metadata": {},
   "source": [
    "With that, it is time to define simulation parameters and instantiate the objects imported for simulation purposes."
   ]
  },
  {
   "cell_type": "code",
   "execution_count": 14,
   "metadata": {},
   "outputs": [],
   "source": [
    "# Simulation Parameters\n",
    "SAVE_FILE = f\"tutorials/{model_name}/simulation_data\"  # automatically uses .csv format\n",
    "DT = 1e-2\n",
    "TF = 10.0\n",
    "N_STEPS = int(TF / DT) + 1\n",
    "INITIAL_STATE = jnp.array([1.5, 0.25])\n",
    "ACTUATION_LIMITS = jnp.array([100.0]) # Box control input constraint, i.e., -100 <= u <= 100"
   ]
  },
  {
   "cell_type": "code",
   "execution_count": 15,
   "metadata": {},
   "outputs": [],
   "source": [
    "# Dynamics function with epsilon parameter: returns f(x), g(x), d(x)\n",
    "eps = 0.5\n",
    "dynamics = van_der_pol_oscillator.plant(epsilon=eps, perturbation=generate_stochastic_perturbation(sigma, DT))\n",
    "\n",
    "#! To do: separate box explaining\n",
    "# Create barrier functions with linear class K function derivative conditions\n",
    "b1 = van_der_pol_oscillator.certificate_functions.barrier_functions.cbf1_package(\n",
    "    certificate_conditions=zeroing_barriers.linear_class_k(alpha=1.0),\n",
    ")\n",
    "b2 = van_der_pol_oscillator.certificate_functions.barrier_functions.cbf2_package(\n",
    "    certificate_conditions=zeroing_barriers.linear_class_k(alpha=1.0),\n",
    ")\n",
    "barriers = concatenate_certificates(b1, b2)\n",
    "\n",
    "#! To do: separate box explaining\n",
    "# Create lyapunov function with exponential stability derivative condition\n",
    "l1 = van_der_pol_oscillator.certificate_functions.lyapunov_functions.clf1_package(\n",
    "    certificate_conditions=e_s(c=2.0),\n",
    "    radius=1.0,\n",
    ")\n",
    "lyapunov = concatenate_certificates(l1)\n",
    "\n",
    "# Instantiate nominal controller\n",
    "nominal_controller = van_der_pol_oscillator.controllers.controller_1(k_p=1.0, epsilon=eps)\n",
    "\n",
    "# Instantiate CBF-CLF-QP control law\n",
    "cbf_clf_controller = cbf_clf_controllers.vanilla_cbf_clf_qp_controller(\n",
    "    control_limits=ACTUATION_LIMITS,\n",
    "    nominal_input=nominal_controller,\n",
    "    dynamics_func=dynamics,\n",
    "    barriers=barriers,\n",
    "    lyapunovs=lyapunov,\n",
    "    relaxable_clf=True,\n",
    ")"
   ]
  },
  {
   "cell_type": "markdown",
   "metadata": {},
   "source": [
    "### 3. Simulation Execution"
   ]
  },
  {
   "cell_type": "markdown",
   "metadata": {},
   "source": [
    "Now we are ready to execute the simulation with ```sim.execute```."
   ]
  },
  {
   "cell_type": "code",
   "execution_count": 16,
   "metadata": {},
   "outputs": [
    {
     "name": "stderr",
     "output_type": "stream",
     "text": [
      "100%|██████████| 1001/1001 [00:01<00:00, 757.59it/s]\n"
     ]
    }
   ],
   "source": [
    "x, _u, _z, _p, dkeys, dvalues = sim.execute(\n",
    "    x0=INITIAL_STATE,\n",
    "    dt=DT,\n",
    "    num_steps=N_STEPS,\n",
    "    dynamics=dynamics,\n",
    "    integrator=integrator,\n",
    "    controller=cbf_clf_controller,\n",
    "    sensor=sensor,\n",
    "    estimator=estimator,\n",
    "    perturbation=generate_stochastic_perturbation(sigma=sigma, dt=DT),\n",
    "    filepath=SAVE_FILE,\n",
    ")"
   ]
  }
 ],
 "metadata": {
  "kernelspec": {
   "display_name": ".venv",
   "language": "python",
   "name": "python3"
  },
  "language_info": {
   "codemirror_mode": {
    "name": "ipython",
    "version": 3
   },
   "file_extension": ".py",
   "mimetype": "text/x-python",
   "name": "python",
   "nbconvert_exporter": "python",
   "pygments_lexer": "ipython3",
   "version": "3.10.12"
  }
 },
 "nbformat": 4,
 "nbformat_minor": 2
}
