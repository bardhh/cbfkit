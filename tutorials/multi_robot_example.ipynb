{
 "cells": [
  {
   "cell_type": "markdown",
   "metadata": {},
   "source": [
    "## Simulate Centralized Multi Robot system"
   ]
  },
  {
   "cell_type": "markdown",
   "metadata": {},
   "source": [
    "This file simulates a centralized multi robot system. Decentralzied implementation will be supported in future releases of this library."
   ]
  },
  {
   "cell_type": "code",
   "execution_count": 21,
   "metadata": {},
   "outputs": [],
   "source": [
    "import os\n",
    "from jax import Array, jit\n",
    "import jax.numpy as jnp\n",
    "import numpy as np\n",
    "\n",
    "from cbfkit.codegen.create_new_system import generate_model"
   ]
  },
  {
   "cell_type": "code",
   "execution_count": 22,
   "metadata": {},
   "outputs": [],
   "source": [
    "target_directory = \"./tutorials\"\n",
    "model_name = \"multi_augmented_single_integrators\""
   ]
  },
  {
   "cell_type": "markdown",
   "metadata": {},
   "source": [
    "### 1. Simulation setup"
   ]
  },
  {
   "cell_type": "code",
   "execution_count": 23,
   "metadata": {},
   "outputs": [],
   "source": [
    "# Simulation Parameters\n",
    "num_robots = 10\n",
    "DT = 0.05 \n",
    "TF = 10 \n",
    "N_STEPS = int(TF / DT) + 1\n",
    "ACTUATION_LIMITS = 100 * jnp.ones(2 * num_robots)\n",
    "\n",
    "INITIAL_STATE = np.zeros(2 * num_robots)\n",
    "goals = np.zeros(2 * num_robots)\n",
    "for i in range(num_robots):\n",
    "    theta_disturbance = np.clip(np.random.normal(0, 1.0), -np.pi / 60, np.pi / 60)\n",
    "    INITIAL_STATE[2 * i] = 4 * np.cos(2 * np.pi * i / num_robots + theta_disturbance)\n",
    "    INITIAL_STATE[2 * i + 1] = 4 * np.sin(2 * np.pi * i / num_robots + theta_disturbance)\n",
    "    goals[2 * i] = -4 * np.cos(2 * np.pi * i / num_robots) + 0.1\n",
    "    goals[2 * i + 1] = -4 * np.sin(2 * np.pi * i / num_robots) + 0.1"
   ]
  },
  {
   "cell_type": "markdown",
   "metadata": {},
   "source": [
    "### 2. Set robot dynamics\n",
    "\n",
    "The following example assumes single integrator dynamics for all the robots. Note that instead of using our autogen scripts, you can also write dynamics, cost and constraint functions and pass them directly."
   ]
  },
  {
   "cell_type": "code",
   "execution_count": 24,
   "metadata": {},
   "outputs": [],
   "source": [
    "# Dynamics\n",
    "params = {}  \n",
    "drift_dynamics_single_robot = np.array([0, 0])\n",
    "control_matrix_single_robot = np.eye(2)  #  \"[[1, 0], [0, 1]]\"\n",
    "drift_dynamics = np.tile(drift_dynamics_single_robot, num_robots)\n",
    "control_matrix = np.kron(np.eye(num_robots), control_matrix_single_robot)\n",
    "drift_dynamics = np.array2string(drift_dynamics, separator=\",\").replace(\"\\n\", \"\")\n",
    "control_matrix = np.array2string(control_matrix, separator=\",\").replace(\"\\n\", \"\")"
   ]
  },
  {
   "cell_type": "markdown",
   "metadata": {},
   "source": [
    "### 3. Set nominal controller"
   ]
  },
  {
   "cell_type": "code",
   "execution_count": 25,
   "metadata": {},
   "outputs": [],
   "source": [
    "nominal_control_law = \"[\"\n",
    "for i in range(num_robots):\n",
    "    if i < (num_robots - 1):\n",
    "        nominal_control_law = (\n",
    "            nominal_control_law\n",
    "            + f\" -k_p * (x[{2*i}]-goal[{2*i}]), -k_p * (x[{2*i+1}]-goal[{2*i+1}]),\"\n",
    "        )\n",
    "    else:\n",
    "        nominal_control_law = (\n",
    "            nominal_control_law\n",
    "            + f\" -k_p * (x[{2*i}]-goal[{2*i}]), -k_p * (x[{2*i+1}]-goal[{2*i+1}])\"\n",
    "        )\n",
    "nominal_control_law = nominal_control_law + \"]\"\n",
    "params[\"controller\"] = {\n",
    "    \"goal: float\": goals,\n",
    "    \"k_p: float\": 1.0,\n",
    "}"
   ]
  },
  {
   "cell_type": "markdown",
   "metadata": {},
   "source": [
    "### 4. Define constraint functions"
   ]
  },
  {
   "cell_type": "code",
   "execution_count": 26,
   "metadata": {},
   "outputs": [],
   "source": [
    "state_constraint_funcs = []\n",
    "for i in range(num_robots):\n",
    "    for j in range(i + 1, num_robots):\n",
    "        state_constraint_funcs.append(f\"(x[{2*i}]-x[{2*j}])**2 + (x[{2*i+1}]-x[{2*j+1}])**2 - 0.1\")"
   ]
  },
  {
   "cell_type": "markdown",
   "metadata": {},
   "source": [
    "### 5. Define lyapunov functions: one for each robot"
   ]
  },
  {
   "cell_type": "code",
   "execution_count": 27,
   "metadata": {},
   "outputs": [],
   "source": [
    "params[\"clf\"] = []\n",
    "lyapunov_functions = []\n",
    "for i in range(num_robots):\n",
    "    lyapunov_functions.append(f\"(x[{2*i}]-goal[0])**2+(x[{2*i+1}]-goal[1])**2\")\n",
    "    params[\"clf\"].append(\n",
    "        {\n",
    "            \"goal: float\": goals[2 * i : 2 * i + 2],\n",
    "        }\n",
    "    )"
   ]
  },
  {
   "cell_type": "markdown",
   "metadata": {},
   "source": [
    "### 6. Generate model files automatically using cbfkit"
   ]
  },
  {
   "cell_type": "code",
   "execution_count": 28,
   "metadata": {},
   "outputs": [
    {
     "name": "stdout",
     "output_type": "stream",
     "text": [
      "Generated ROS2 controller node script at ./tutorials/multi_augmented_single_integrators/ros2/controller.py\n",
      "Generated ROS2 sensor node script at ./tutorials/multi_augmented_single_integrators/ros2/sensor.py\n",
      "Generated ROS2 estimator node script at ./tutorials/multi_augmented_single_integrators/ros2/estimator.py\n",
      "Generated ROS2 plant node script at ./tutorials/multi_augmented_single_integrators/ros2/plant_model.py\n",
      "Generated configuration script at ./tutorials/multi_augmented_single_integrators/ros2/config.py\n",
      "Generated bash script to run ROS2 nodes at: ./tutorials/multi_augmented_single_integrators/run_ros2_nodes.sh\n"
     ]
    },
    {
     "data": {
      "text/plain": [
       "(20, 20)"
      ]
     },
     "execution_count": 28,
     "metadata": {},
     "output_type": "execute_result"
    }
   ],
   "source": [
    "generate_model.generate_model(\n",
    "    directory=target_directory,\n",
    "    model_name=model_name,\n",
    "    drift_dynamics=drift_dynamics,\n",
    "    control_matrix=control_matrix,\n",
    "    barrier_funcs=state_constraint_funcs,\n",
    "    lyapunov_funcs=lyapunov_functions,\n",
    "    nominal_controller=nominal_control_law,\n",
    "    params=params,\n",
    ")"
   ]
  },
  {
   "cell_type": "markdown",
   "metadata": {},
   "source": [
    "### 7. Import generated files"
   ]
  },
  {
   "cell_type": "code",
   "execution_count": 29,
   "metadata": {},
   "outputs": [],
   "source": [
    "\n",
    "# Provides access to execute (sim.execute)\n",
    "import cbfkit.simulation.simulator as sim\n",
    "\n",
    "# Access to CBF-CLF-QP control law\n",
    "import cbfkit.controllers_and_planners.model_based.cbf_clf_controllers as cbf_clf_controllers\n",
    "\n",
    "# Necessary housekeeping for using multiple CBFs/CLFs\n",
    "from cbfkit.controllers_and_planners.model_based.cbf_clf_controllers.utils.certificate_packager import (\n",
    "    concatenate_certificates,\n",
    ")\n",
    "\n",
    "# Suite of zeroing barrier function derivative conditions (forms of Class K functions)\n",
    "from cbfkit.controllers_and_planners.model_based.cbf_clf_controllers.utils.barrier_conditions import (\n",
    "    zeroing_barriers,\n",
    ")\n",
    "\n",
    "# Exponentially stable derivative condition for CLF\n",
    "from cbfkit.controllers_and_planners.model_based.cbf_clf_controllers.utils.lyapunov_conditions.exponential_stability import (\n",
    "    e_s,\n",
    ")\n",
    "\n",
    "# Assuming perfect, complete state information\n",
    "from cbfkit.sensors import perfect as sensor\n",
    "\n",
    "# With perfect sensing, we can use a naive estimate of the state\n",
    "from cbfkit.estimators import naive as estimator\n",
    "\n",
    "# Use forward-Euler numerical integration scheme\n",
    "from cbfkit.utils.numerical_integration import forward_euler as integrator\n",
    "\n",
    "from tutorials import multi_augmented_single_integrators\n",
    "\n",
    "# Simulation Parameters\n",
    "SAVE_FILE = f\"tutorials/{model_name}/simulation_data\"  # automatically uses .csv format\n",
    "\n",
    "dynamics = multi_augmented_single_integrators.plant()"
   ]
  },
  {
   "cell_type": "markdown",
   "metadata": {},
   "source": [
    "### 8. Include all CBFs and CLFs in a single list. required for cbfkit interface. the code below can be made part of library "
   ]
  },
  {
   "cell_type": "code",
   "execution_count": 30,
   "metadata": {},
   "outputs": [],
   "source": [
    "# Create barrier functions with linear class K function derivative conditions\n",
    "bs = []\n",
    "for i in range(len(state_constraint_funcs)):\n",
    "    func_name = (\n",
    "        \"multi_augmented_single_integrators.certificate_functions.barrier_functions.\"\n",
    "        + \"cbf\"\n",
    "        + str(i + 1)\n",
    "        + \"_package\"\n",
    "    )\n",
    "    exec(f\"func={func_name}\")\n",
    "    # func = getattr(__name__, func_name)\n",
    "    bs.append(func(certificate_conditions=zeroing_barriers.linear_class_k(alpha=1.0)))\n",
    "barriers = concatenate_certificates(*bs)  # , b2)\n",
    "\n",
    "# Create lyapunov function with exponential stability derivative condition\n",
    "ls = []\n",
    "for i in range(len(lyapunov_functions)):\n",
    "    func_name = (\n",
    "        \"multi_augmented_single_integrators.certificate_functions.lyapunov_functions.\"\n",
    "        + \"clf\"\n",
    "        + str(i + 1)\n",
    "        + \"_package\"\n",
    "    )\n",
    "    exec(f\"func={func_name}\")\n",
    "    ls.append(\n",
    "        func(\n",
    "            certificate_conditions=e_s(c=2.0),\n",
    "            goal=goals[2 * i : 2 * i + 2],\n",
    "        )\n",
    "    )\n",
    "lyapunov = concatenate_certificates(*ls)\n"
   ]
  },
  {
   "cell_type": "markdown",
   "metadata": {},
   "source": [
    "### 9. Define nominal controller and CBF-QP controller"
   ]
  },
  {
   "cell_type": "code",
   "execution_count": 31,
   "metadata": {},
   "outputs": [],
   "source": [
    "\n",
    "# Instantiate nominal controller\n",
    "nominal_controller = multi_augmented_single_integrators.controllers.controller_1(goal=goals, k_p=1)\n",
    "\n",
    "# Instantiate CBF-CLF-QP control law\n",
    "cbf_clf_controller = cbf_clf_controllers.vanilla_cbf_clf_qp_controller(\n",
    "    control_limits=ACTUATION_LIMITS,\n",
    "    nominal_input=nominal_controller,\n",
    "    dynamics_func=dynamics,\n",
    "    barriers=barriers,\n",
    "    lyapunovs=lyapunov,\n",
    "    relaxable_clf=True,\n",
    ")"
   ]
  },
  {
   "cell_type": "markdown",
   "metadata": {},
   "source": [
    "### Simulate the system"
   ]
  },
  {
   "cell_type": "code",
   "execution_count": 32,
   "metadata": {},
   "outputs": [
    {
     "name": "stderr",
     "output_type": "stream",
     "text": [
      "  0%|          | 0/201 [00:00<?, ?it/s]"
     ]
    },
    {
     "name": "stderr",
     "output_type": "stream",
     "text": [
      "100%|██████████| 201/201 [01:12<00:00,  2.78it/s]\n"
     ]
    }
   ],
   "source": [
    "\n",
    "# Run the simulation\n",
    "(\n",
    "    x_,\n",
    "    u_,\n",
    "    z_,\n",
    "    p_,\n",
    "    controller_data_keys_,\n",
    "    controller_data_items_,\n",
    "    planner_data_keys_,\n",
    "    planner_data_items_,\n",
    ") = sim.execute(\n",
    "    x0=INITIAL_STATE,\n",
    "    dt=DT,\n",
    "    num_steps=N_STEPS,\n",
    "    dynamics=dynamics,\n",
    "    integrator=integrator,\n",
    "    planner=None,\n",
    "    nominal_controller=nominal_controller,\n",
    "    controller=cbf_clf_controller,\n",
    "    sensor=sensor,\n",
    "    estimator=estimator,\n",
    "    filepath=SAVE_FILE,\n",
    "    planner_data={\n",
    "        \"x_traj\": jnp.zeros((2, 1)),\n",
    "    },  # pass in a dummy state since we need to pass planner_data\n",
    "    controller_data={},\n",
    ")"
   ]
  },
  {
   "cell_type": "markdown",
   "metadata": {},
   "source": [
    "### Generate GIF"
   ]
  },
  {
   "cell_type": "code",
   "execution_count": 33,
   "metadata": {},
   "outputs": [
    {
     "name": "stderr",
     "output_type": "stream",
     "text": [
      "No artists with labels found to put in legend.  Note that artists whose label start with an underscore are ignored when legend() is called with no argument.\n",
      "MovieWriter imagemagick unavailable; using Pillow instead.\n"
     ]
    },
    {
     "data": {
      "image/png": "[encoded data removed]",
      "text/plain": [
       "<Figure size 640x480 with 1 Axes>"
      ]
     },
     "metadata": {},
     "output_type": "display_data"
    }
   ],
   "source": [
    "plot = True\n",
    "if plot:\n",
    "    from tutorials.plot_helper.plot_multi_single_integrators import animate\n",
    "\n",
    "    animate(\n",
    "        states=x_,\n",
    "        estimates=z_,\n",
    "        desired_state=goals,\n",
    "        desired_state_radius=0.1,\n",
    "        x_lim=(-5, 5),\n",
    "        y_lim=(-5, 5),\n",
    "        dt=DT,\n",
    "        title=\"System Behavior\",\n",
    "        save_animation=True,\n",
    "        animation_filename=target_directory + \"/\" + model_name + \"/animation\" + \".gif\",\n",
    "        num_robots=num_robots,\n",
    "    )"
   ]
  },
  {
   "cell_type": "code",
   "execution_count": null,
   "metadata": {},
   "outputs": [],
   "source": []
  }
 ],
 "metadata": {
  "kernelspec": {
   "display_name": ".venv",
   "language": "python",
   "name": "python3"
  },
  "language_info": {
   "codemirror_mode": {
    "name": "ipython",
    "version": 3
   },
   "file_extension": ".py",
   "mimetype": "text/x-python",
   "name": "python",
   "nbconvert_exporter": "python",
   "pygments_lexer": "ipython3",
   "version": "3.10.12"
  }
 },
 "nbformat": 4,
 "nbformat_minor": 2
}
