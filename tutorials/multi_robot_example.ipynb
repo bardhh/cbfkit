{
 "cells": [
  {
   "cell_type": "markdown",
   "metadata": {},
   "source": [
    "## Simulate Centralized Multi Robot system"
   ]
  },
  {
   "cell_type": "code",
   "execution_count": 1,
   "metadata": {},
   "outputs": [],
   "source": [
    "from jax import Array, jit\n",
    "import jax.numpy as jnp\n",
    "import numpy as np\n",
    "from cbfkit.codegen.create_new_system import generate_model"
   ]
  },
  {
   "cell_type": "code",
   "execution_count": 2,
   "metadata": {},
   "outputs": [],
   "source": [
    "target_directory = \"./tutorials\"\n",
    "model_name = \"multi_augmented_single_integrators\""
   ]
  },
  {
   "cell_type": "markdown",
   "metadata": {},
   "source": [
    "### 1. Simulation setup"
   ]
  },
  {
   "cell_type": "code",
   "execution_count": 3,
   "metadata": {},
   "outputs": [],
   "source": [
    "num_robots = 10 \n",
    "INITIAL_STATE = np.zeros(2 * num_robots)\n",
    "goals = np.zeros(2 * num_robots)\n",
    "DT = 0.1 \n",
    "TF = 10 \n",
    "N_STEPS = int(TF / DT) + 1\n",
    "ACTUATION_LIMITS = 100 * jnp.ones(\n",
    "    2 * num_robots\n",
    ")\n",
    "\n",
    "# Set initial states and goals of all the robots\n",
    "# The robot states are appended in a single vector\n",
    "for i in range(num_robots):\n",
    "    theta_disturbance = np.clip(np.random.normal(0, 1.0), -np.pi / 60, np.pi / 60)\n",
    "    INITIAL_STATE[2 * i] = 2 * np.cos(2 * np.pi * i / num_robots + theta_disturbance)\n",
    "    INITIAL_STATE[2 * i + 1] = 2 * np.sin(2 * np.pi * i / num_robots + theta_disturbance)\n",
    "    goals[2 * i] = -2 * np.cos(2 * np.pi * i / num_robots) + 0.1\n",
    "### 1. Simulation setup    goals[2 * i + 1] = -2 * np.sin(2 * np.pi * i / num_robots) + 0.1"
   ]
  },
  {
   "cell_type": "markdown",
   "metadata": {},
   "source": [
    "### 2. Set robot dynamics\n",
    "\n",
    "The following example assumes single integrator dynamics for all the robots."
   ]
  },
  {
   "cell_type": "code",
   "execution_count": 4,
   "metadata": {},
   "outputs": [],
   "source": [
    "drift_dynamics_single_robot = np.array([0, 0])\n",
    "drift_dynamics = np.tile(drift_dynamics_single_robot, num_robots)\n",
    "drift_dynamics = np.array2string(drift_dynamics, separator=\",\").replace(\"\\n\", \"\")\n",
    "\n",
    "control_matrix_single_robot = np.eye(2) \n",
    "control_matrix = np.kron(np.eye(num_robots), control_matrix_single_robot)\n",
    "control_matrix = np.array2string(control_matrix, separator=\",\").replace(\"\\n\", \"\")\n",
    "\n",
    "# Initialize params. If dynamics had any parameters, they can be passed here too\n",
    "params = {}  # {\"dynamics\": {\"epsilon: float\": 0.5}}"
   ]
  },
  {
   "cell_type": "markdown",
   "metadata": {},
   "source": [
    "### 3. Set nominal controller"
   ]
  },
  {
   "cell_type": "code",
   "execution_count": 5,
   "metadata": {},
   "outputs": [],
   "source": [
    "nominal_control_law = \"[\"\n",
    "for i in range(num_robots):\n",
    "    if i < (num_robots - 1):\n",
    "        nominal_control_law = (\n",
    "            nominal_control_law\n",
    "            + f\" -k_p * (x[{2*i}]-goal[{2*i}]), -k_p * (x[{2*i+1}]-goal[{2*i+1}]),\"\n",
    "        )\n",
    "    else:\n",
    "        nominal_control_law = (\n",
    "            nominal_control_law\n",
    "            + f\" -k_p * (x[{2*i}]-goal[{2*i}]), -k_p * (x[{2*i+1}]-goal[{2*i+1}])\"\n",
    "        )\n",
    "nominal_control_law = nominal_control_law + \"]\"\n",
    "params[\"controller\"] = {\n",
    "    \"goal: float\": goals,\n",
    "    \"k_p: float\": 1.0,\n",
    "}"
   ]
  },
  {
   "cell_type": "markdown",
   "metadata": {},
   "source": [
    "### 4. Define constraint functions"
   ]
  },
  {
   "cell_type": "code",
   "execution_count": 6,
   "metadata": {},
   "outputs": [],
   "source": [
    "state_constraint_funcs = []\n",
    "for i in range(num_robots):\n",
    "    for j in range(i + 1, num_robots):\n",
    "        state_constraint_funcs.append(f\"(x[{2*i}]-x[{2*j}])**2 + (x[{2*i+1}]-x[{2*j+1}])**2 - 1\")"
   ]
  },
  {
   "cell_type": "markdown",
   "metadata": {},
   "source": [
    "### 5. Define lyapunov functions: one for each robot"
   ]
  },
  {
   "cell_type": "code",
   "execution_count": 7,
   "metadata": {},
   "outputs": [],
   "source": [
    "params[\"clf\"] = []\n",
    "lyapunov_functions = []\n",
    "for i in range(num_robots):\n",
    "    lyapunov_functions.append(f\"(x[{2*i}]-goal[0])**2+(x[{2*i+1}]-goal[1])**2\")\n",
    "    params[\"clf\"].append(\n",
    "        {\n",
    "            \"goal: float\": goals[2 * i : 2 * i + 2],\n",
    "        }\n",
    "    )"
   ]
  },
  {
   "cell_type": "markdown",
   "metadata": {},
   "source": [
    "### 6. Generate model files automatically using cbfkit"
   ]
  },
  {
   "cell_type": "code",
   "execution_count": 8,
   "metadata": {},
   "outputs": [
    {
     "name": "stdout",
     "output_type": "stream",
     "text": [
      "Generated ROS2 controller node script at ./tutorials/multi_augmented_single_integrators/ros2/controller.py\n",
      "Generated ROS2 sensor node script at ./tutorials/multi_augmented_single_integrators/ros2/sensor.py\n",
      "Generated ROS2 estimator node script at ./tutorials/multi_augmented_single_integrators/ros2/estimator.py\n",
      "Generated ROS2 plant node script at ./tutorials/multi_augmented_single_integrators/ros2/plant_model.py\n",
      "Generated configuration script at ./tutorials/multi_augmented_single_integrators/ros2/config.py\n",
      "Generated bash script to run ROS2 nodes at: ./tutorials/multi_augmented_single_integrators/run_ros2_nodes.sh\n"
     ]
    },
    {
     "data": {
      "text/plain": [
       "(20, 20)"
      ]
     },
     "execution_count": 8,
     "metadata": {},
     "output_type": "execute_result"
    }
   ],
   "source": [
    "generate_model.generate_model(\n",
    "    directory=target_directory,\n",
    "    model_name=model_name,\n",
    "    drift_dynamics=drift_dynamics,\n",
    "    control_matrix=control_matrix,\n",
    "    barrier_funcs=state_constraint_funcs,\n",
    "    lyapunov_funcs=lyapunov_functions,\n",
    "    nominal_controller=nominal_control_law,\n",
    "    params=params,\n",
    ")"
   ]
  },
  {
   "cell_type": "markdown",
   "metadata": {},
   "source": [
    "### 7. Import generated files"
   ]
  },
  {
   "cell_type": "code",
   "execution_count": 9,
   "metadata": {},
   "outputs": [],
   "source": [
    "# Provides access to execute (sim.execute)\n",
    "import cbfkit.simulation.simulator as sim\n",
    "\n",
    "# Access to CBF-CLF-QP control law\n",
    "import cbfkit.controllers_and_planners.model_based.cbf_clf_controllers as cbf_clf_controllers\n",
    "\n",
    "# Necessary housekeeping for using multiple CBFs/CLFs\n",
    "from cbfkit.controllers_and_planners.model_based.cbf_clf_controllers.utils.certificate_packager import (\n",
    "    concatenate_certificates,\n",
    ")\n",
    "\n",
    "# Suite of zeroing barrier function derivative conditions (forms of Class K functions)\n",
    "from cbfkit.controllers_and_planners.model_based.cbf_clf_controllers.utils.barrier_conditions import (\n",
    "    zeroing_barriers,\n",
    ")\n",
    "\n",
    "# Exponentially stable derivative condition for CLF\n",
    "from cbfkit.controllers_and_planners.model_based.cbf_clf_controllers.utils.lyapunov_conditions.exponential_stability import (\n",
    "    e_s,\n",
    ")\n",
    "\n",
    "# Assuming perfect, complete state information\n",
    "from cbfkit.sensors import perfect as sensor\n",
    "\n",
    "# With perfect sensing, we can use a naive estimate of the state\n",
    "from cbfkit.estimators import naive as estimator\n",
    "\n",
    "# Use forward-Euler numerical integration scheme\n",
    "from cbfkit.utils.numerical_integration import forward_euler as integrator\n",
    "\n",
    "from tutorials import multi_augmented_single_integrators\n",
    "\n",
    "# Simulation Parameters\n",
    "SAVE_FILE = f\"tutorials/{model_name}/simulation_data\"  # automatically uses .csv format"
   ]
  },
  {
   "cell_type": "markdown",
   "metadata": {},
   "source": [
    "### 8. Include all CBFs and CLFs in a single list. required for cbfkit interface. the code below can be made part of library "
   ]
  },
  {
   "cell_type": "code",
   "execution_count": 10,
   "metadata": {},
   "outputs": [],
   "source": [
    "bs = []\n",
    "for i in range(len(state_constraint_funcs)):\n",
    "    func_name = (\n",
    "        \"multi_augmented_single_integrators.certificate_functions.barrier_functions.\"\n",
    "        + \"cbf\"\n",
    "        + str(i + 1)\n",
    "        + \"_package\"\n",
    "    )\n",
    "    exec(f\"func={func_name}\")\n",
    "    bs.append(func(certificate_conditions=zeroing_barriers.linear_class_k(alpha=1.0)))\n",
    "barriers = concatenate_certificates(*bs)\n",
    "\n",
    "ls = []\n",
    "for i in range(len(lyapunov_functions)):\n",
    "    func_name = (\n",
    "        \"multi_augmented_single_integrators.certificate_functions.lyapunov_functions.\"\n",
    "        + \"clf\"\n",
    "        + str(i + 1)\n",
    "        + \"_package\"\n",
    "    )\n",
    "    exec(f\"func={func_name}\")\n",
    "    # func = getattr(__main__, func_name)\n",
    "    ls.append(\n",
    "        func(\n",
    "            certificate_conditions=e_s(c=2.0),\n",
    "            goal=goals[2 * i : 2 * i + 2],\n",
    "        )\n",
    "    )\n",
    "lyapunov = concatenate_certificates(*ls)"
   ]
  },
  {
   "cell_type": "markdown",
   "metadata": {},
   "source": [
    "### 9. Define nominal controller and CBF-QP controller"
   ]
  },
  {
   "cell_type": "code",
   "execution_count": 11,
   "metadata": {},
   "outputs": [],
   "source": [
    "dynamics = (\n",
    "    multi_augmented_single_integrators.plant()\n",
    ") \n",
    "\n",
    "nominal_controller = multi_augmented_single_integrators.controllers.controller_1(\n",
    "    goal=goals, k_p=1\n",
    ") \n",
    "\n",
    "cbf_clf_controller = cbf_clf_controllers.vanilla_cbf_clf_qp_controller(\n",
    "    control_limits=ACTUATION_LIMITS,\n",
    "    nominal_input=nominal_controller,\n",
    "    dynamics_func=dynamics,\n",
    "    barriers=barriers,\n",
    "    lyapunovs=lyapunov,\n",
    "    relaxable_clf=True,\n",
    ")"
   ]
  },
  {
   "cell_type": "markdown",
   "metadata": {},
   "source": [
    "### Simulate the system"
   ]
  },
  {
   "cell_type": "code",
   "execution_count": 12,
   "metadata": {},
   "outputs": [
    {
     "name": "stderr",
     "output_type": "stream",
     "text": [
      " 47%|████▋     | 47/101 [00:07<00:08,  6.64it/s]\n"
     ]
    },
    {
     "name": "stdout",
     "output_type": "stream",
     "text": [
      "CONTROLLER ERROR\n"
     ]
    }
   ],
   "source": [
    "x, _u, _z, _p, dkeys, dvalues = sim.execute(\n",
    "    x0=INITIAL_STATE,\n",
    "    dt=DT,\n",
    "    num_steps=N_STEPS,\n",
    "    dynamics=dynamics,\n",
    "    integrator=integrator,\n",
    "    controller=cbf_clf_controller,\n",
    "    sensor=sensor,\n",
    "    estimator=estimator,  # perturbation=generate_stochastic_perturbation(sigma=sigma, dt=DT),\n",
    "    filepath=SAVE_FILE,\n",
    ")"
   ]
  },
  {
   "cell_type": "markdown",
   "metadata": {},
   "source": [
    "### Generate GIF"
   ]
  },
  {
   "cell_type": "code",
   "execution_count": 13,
   "metadata": {},
   "outputs": [
    {
     "name": "stderr",
     "output_type": "stream",
     "text": [
      "No artists with labels found to put in legend.  Note that artists whose label start with an underscore are ignored when legend() is called with no argument.\n",
      "MovieWriter imagemagick unavailable; using Pillow instead.\n"
     ]
    },
    {
     "data": {
      "image/png": "[encoded data removed]",
      "text/plain": [
       "<Figure size 640x480 with 1 Axes>"
      ]
     },
     "metadata": {},
     "output_type": "display_data"
    },
    {
     "data": {
      "text/plain": [
       "(<Figure size 640x480 with 1 Axes>,\n",
       " <Axes: title={'center': 'System Behavior'}, xlabel='x [m]', ylabel='y [m]'>)"
      ]
     },
     "execution_count": 13,
     "metadata": {},
     "output_type": "execute_result"
    }
   ],
   "source": [
    "from tutorials.plot_multi_single_integrators import animate\n",
    "\n",
    "animate(\n",
    "    states=x,\n",
    "    estimates=_z,\n",
    "    desired_state=goals,\n",
    "    desired_state_radius=0.1,\n",
    "    x_lim=(-5, 5),\n",
    "    y_lim=(-5, 5),\n",
    "    dt=DT,\n",
    "    title=\"System Behavior\",\n",
    "    save_animation=True,\n",
    "    animation_filename=target_directory + \"/\" + model_name + \"/animation\" + \".gif\",\n",
    "    num_robots=num_robots,\n",
    ")"
   ]
  }
 ],
 "metadata": {
  "kernelspec": {
   "display_name": ".venv",
   "language": "python",
   "name": "python3"
  },
  "language_info": {
   "codemirror_mode": {
    "name": "ipython",
    "version": 3
   },
   "file_extension": ".py",
   "mimetype": "text/x-python",
   "name": "python",
   "nbconvert_exporter": "python",
   "pygments_lexer": "ipython3",
   "version": "3.10.12"
  }
 },
 "nbformat": 4,
 "nbformat_minor": 2
}
